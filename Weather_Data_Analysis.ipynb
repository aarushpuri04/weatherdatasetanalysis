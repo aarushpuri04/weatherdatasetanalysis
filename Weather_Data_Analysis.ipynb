{
  "nbformat": 4,
  "nbformat_minor": 0,
  "metadata": {
    "colab": {
      "provenance": []
    },
    "kernelspec": {
      "name": "python3",
      "display_name": "Python 3"
    },
    "language_info": {
      "name": "python"
    }
  },
  "cells": [
    {
      "cell_type": "code",
      "execution_count": 3,
      "metadata": {
        "id": "hbFFKPTkEQce"
      },
      "outputs": [],
      "source": [
        "import pandas as pd\n",
        "import numpy as np\n",
        "from scipy import stats"
      ]
    },
    {
      "cell_type": "code",
      "source": [
        "# Load the dataset\n",
        "Weather_data = pd.read_csv('weatherHistory.csv')"
      ],
      "metadata": {
        "id": "6_mUkg6eQP3Z"
      },
      "execution_count": 48,
      "outputs": []
    },
    {
      "cell_type": "code",
      "source": [
        "# Initial inspection\n",
        "print(Weather_data.head())"
      ],
      "metadata": {
        "colab": {
          "base_uri": "https://localhost:8080/"
        },
        "id": "U5asxdjjRFmd",
        "outputId": "a40ba4d2-9113-474b-d1bc-0bcd5efa24fb"
      },
      "execution_count": 49,
      "outputs": [
        {
          "output_type": "stream",
          "name": "stdout",
          "text": [
            "                  Formatted Date        Summary Precip Type  Temperature (C)  \\\n",
            "0  2006-04-01 00:00:00.000 +0200  Partly Cloudy        rain         9.472222   \n",
            "1  2006-04-01 01:00:00.000 +0200  Partly Cloudy        rain         9.355556   \n",
            "2  2006-04-01 02:00:00.000 +0200  Mostly Cloudy        rain         9.377778   \n",
            "3  2006-04-01 03:00:00.000 +0200  Partly Cloudy        rain         8.288889   \n",
            "4  2006-04-01 04:00:00.000 +0200  Mostly Cloudy        rain         8.755556   \n",
            "\n",
            "   Apparent Temperature (C)  Humidity  Wind Speed (km/h)  \\\n",
            "0                  7.388889      0.89            14.1197   \n",
            "1                  7.227778      0.86            14.2646   \n",
            "2                  9.377778      0.89             3.9284   \n",
            "3                  5.944444      0.83            14.1036   \n",
            "4                  6.977778      0.83            11.0446   \n",
            "\n",
            "   Wind Bearing (degrees)  Visibility (km)  Loud Cover  Pressure (millibars)  \\\n",
            "0                   251.0          15.8263         0.0               1015.13   \n",
            "1                   259.0          15.8263         0.0               1015.63   \n",
            "2                   204.0          14.9569         0.0               1015.94   \n",
            "3                   269.0          15.8263         0.0               1016.41   \n",
            "4                   259.0          15.8263         0.0               1016.51   \n",
            "\n",
            "                       Daily Summary  \n",
            "0  Partly cloudy throughout the day.  \n",
            "1  Partly cloudy throughout the day.  \n",
            "2  Partly cloudy throughout the day.  \n",
            "3  Partly cloudy throughout the day.  \n",
            "4  Partly cloudy throughout the day.  \n"
          ]
        }
      ]
    },
    {
      "cell_type": "code",
      "source": [
        "print(Weather_data.describe())"
      ],
      "metadata": {
        "colab": {
          "base_uri": "https://localhost:8080/"
        },
        "id": "oLE6K1TMRKmi",
        "outputId": "ed7a1ce2-f154-42ff-80e9-6d069bbff706"
      },
      "execution_count": 50,
      "outputs": [
        {
          "output_type": "stream",
          "name": "stdout",
          "text": [
            "       Temperature (C)  Apparent Temperature (C)      Humidity  \\\n",
            "count     96453.000000              96453.000000  96453.000000   \n",
            "mean         11.932678                 10.855029      0.734899   \n",
            "std           9.551546                 10.696847      0.195473   \n",
            "min         -21.822222                -27.716667      0.000000   \n",
            "25%           4.688889                  2.311111      0.600000   \n",
            "50%          12.000000                 12.000000      0.780000   \n",
            "75%          18.838889                 18.838889      0.890000   \n",
            "max          39.905556                 39.344444      1.000000   \n",
            "\n",
            "       Wind Speed (km/h)  Wind Bearing (degrees)  Visibility (km)  Loud Cover  \\\n",
            "count       96453.000000            96453.000000     96453.000000     96453.0   \n",
            "mean           10.810640              187.509232        10.347325         0.0   \n",
            "std             6.913571              107.383428         4.192123         0.0   \n",
            "min             0.000000                0.000000         0.000000         0.0   \n",
            "25%             5.828200              116.000000         8.339800         0.0   \n",
            "50%             9.965900              180.000000        10.046400         0.0   \n",
            "75%            14.135800              290.000000        14.812000         0.0   \n",
            "max            63.852600              359.000000        16.100000         0.0   \n",
            "\n",
            "       Pressure (millibars)  \n",
            "count          96453.000000  \n",
            "mean            1003.235956  \n",
            "std              116.969906  \n",
            "min                0.000000  \n",
            "25%             1011.900000  \n",
            "50%             1016.450000  \n",
            "75%             1021.090000  \n",
            "max             1046.380000  \n"
          ]
        }
      ]
    },
    {
      "cell_type": "markdown",
      "source": [
        "Data Cleaning"
      ],
      "metadata": {
        "id": "xlPWqel6Tsb5"
      }
    },
    {
      "cell_type": "code",
      "source": [
        "# Data Cleaning\n",
        "# Convert 'Formatted Date' to datetime\n",
        "Weather_data['Formatted Date'] = pd.to_datetime(Weather_data['Formatted Date'], utc=True)"
      ],
      "metadata": {
        "id": "kdn5FkA5TsH0"
      },
      "execution_count": 51,
      "outputs": []
    },
    {
      "cell_type": "code",
      "source": [
        "# Step 3: Check for missing values in each column\n",
        "print(Weather_data.isnull().sum())"
      ],
      "metadata": {
        "colab": {
          "base_uri": "https://localhost:8080/"
        },
        "id": "wmdrAAXaQ2ze",
        "outputId": "1095812b-1dfb-4901-ac7e-3736566ce227"
      },
      "execution_count": 61,
      "outputs": [
        {
          "output_type": "stream",
          "name": "stdout",
          "text": [
            "Formatted Date                0\n",
            "Summary                       0\n",
            "Precip Type                 517\n",
            "Temperature (C)               0\n",
            "Apparent Temperature (C)      0\n",
            "Humidity                      0\n",
            "Wind Speed (km/h)             0\n",
            "Wind Bearing (degrees)        0\n",
            "Visibility (km)               0\n",
            "Loud Cover                    0\n",
            "Pressure (millibars)          0\n",
            "Daily Summary                 0\n",
            "dtype: int64\n"
          ]
        }
      ]
    },
    {
      "cell_type": "code",
      "source": [
        "# Fill missing values in 'Precip Type' with the most common value\n",
        "most_common_precip = Weather_data['Precip Type'].mode()[0]\n",
        "Weather_data['Precip Type'].fillna(most_common_precip, inplace=True)"
      ],
      "metadata": {
        "id": "MpshhwCETXNK"
      },
      "execution_count": 64,
      "outputs": []
    },
    {
      "cell_type": "markdown",
      "source": [
        "Could have used\n",
        "        # Fill missing categorical data with the most common value(mpde)\n",
        "        if data[column].dtype == 'object':\n",
        "            most_common = data[column].mode()[0]\n",
        "            data[column].fillna(most_common, inplace=True)\n",
        "        else:\n",
        "            # Fill missing numerical data with the median\n",
        "            median_value = data[column].median()\n",
        "            data[column].fillna(median_value, inplace=True)"
      ],
      "metadata": {
        "id": "8YZVJ-YQVrwf"
      }
    },
    {
      "cell_type": "markdown",
      "source": [
        "Could Have Used\n",
        "#'Precip Type' has missing values, fill them with the mode, most common value\n",
        "mode_precip = Weather_data['Precip Type'].mode()[0]\n",
        "Weather_data['Precip Type'].fillna(mode_precip, inplace=True)"
      ],
      "metadata": {
        "id": "kxMBg5yUOa6W"
      }
    },
    {
      "cell_type": "code",
      "source": [
        "# Drop columns not changing\n",
        "Weather_data = Weather_data.drop('Loud Cover', axis=1)\n",
        "print(Weather_data.head())"
      ],
      "metadata": {
        "colab": {
          "base_uri": "https://localhost:8080/"
        },
        "id": "vLXFRjB9S4HL",
        "outputId": "1d8e0001-c6bf-4e42-decc-ef68f9cab049"
      },
      "execution_count": 65,
      "outputs": [
        {
          "output_type": "stream",
          "name": "stdout",
          "text": [
            "             Formatted Date        Summary Precip Type  Temperature (C)  \\\n",
            "0 2006-03-31 22:00:00+00:00  Partly Cloudy        rain         9.472222   \n",
            "1 2006-03-31 23:00:00+00:00  Partly Cloudy        rain         9.355556   \n",
            "2 2006-04-01 00:00:00+00:00  Mostly Cloudy        rain         9.377778   \n",
            "3 2006-04-01 01:00:00+00:00  Partly Cloudy        rain         8.288889   \n",
            "4 2006-04-01 02:00:00+00:00  Mostly Cloudy        rain         8.755556   \n",
            "\n",
            "   Apparent Temperature (C)  Humidity  Wind Speed (km/h)  \\\n",
            "0                  7.388889      0.89            14.1197   \n",
            "1                  7.227778      0.86            14.2646   \n",
            "2                  9.377778      0.89             3.9284   \n",
            "3                  5.944444      0.83            14.1036   \n",
            "4                  6.977778      0.83            11.0446   \n",
            "\n",
            "   Wind Bearing (degrees)  Visibility (km)  Pressure (millibars)  \\\n",
            "0                   251.0          15.8263               1015.13   \n",
            "1                   259.0          15.8263               1015.63   \n",
            "2                   204.0          14.9569               1015.94   \n",
            "3                   269.0          15.8263               1016.41   \n",
            "4                   259.0          15.8263               1016.51   \n",
            "\n",
            "                       Daily Summary  \n",
            "0  Partly cloudy throughout the day.  \n",
            "1  Partly cloudy throughout the day.  \n",
            "2  Partly cloudy throughout the day.  \n",
            "3  Partly cloudy throughout the day.  \n",
            "4  Partly cloudy throughout the day.  \n"
          ]
        }
      ]
    },
    {
      "cell_type": "code",
      "source": [
        "# Print updated information to confirm changes\n",
        "print(Weather_data.isnull().sum())"
      ],
      "metadata": {
        "colab": {
          "base_uri": "https://localhost:8080/"
        },
        "id": "NDpMt31lSHh5",
        "outputId": "81d92e78-a79d-43ba-b9bd-04a722d330aa"
      },
      "execution_count": 66,
      "outputs": [
        {
          "output_type": "stream",
          "name": "stdout",
          "text": [
            "Formatted Date              0\n",
            "Summary                     0\n",
            "Precip Type                 0\n",
            "Temperature (C)             0\n",
            "Apparent Temperature (C)    0\n",
            "Humidity                    0\n",
            "Wind Speed (km/h)           0\n",
            "Wind Bearing (degrees)      0\n",
            "Visibility (km)             0\n",
            "Pressure (millibars)        0\n",
            "Daily Summary               0\n",
            "dtype: int64\n"
          ]
        }
      ]
    },
    {
      "cell_type": "markdown",
      "source": [
        "Detect and handle outliers in numerical columns\n",
        "# For simplicity, we'll use Z-score for outlier detection in 'Temperature (C)'"
      ],
      "metadata": {
        "id": "Xux6eRKhRF07"
      }
    },
    {
      "cell_type": "code",
      "source": [
        "from scipy.stats import zscore"
      ],
      "metadata": {
        "id": "J2ny3iojQ3sm"
      },
      "execution_count": 69,
      "outputs": []
    },
    {
      "cell_type": "code",
      "source": [
        "# Add a new column with Z-scores of 'Temperature (C)'\n",
        "Weather_data['Temp_Z'] = zscore(Weather_data['Temperature (C)'])\n",
        "\n",
        "# Filter out rows where the z-score is greater than 3 or less than -3 (standard outlier threshold)\n",
        "weather_data = Weather_data[(Weather_data['Temp_Z'] < 3) & (Weather_data['Temp_Z'] > -3)]"
      ],
      "metadata": {
        "id": "4t_XX9gpUuDc"
      },
      "execution_count": 71,
      "outputs": []
    },
    {
      "cell_type": "code",
      "source": [
        "print(Weather_data.head())"
      ],
      "metadata": {
        "colab": {
          "base_uri": "https://localhost:8080/"
        },
        "id": "uJ9BJ7dTLzs9",
        "outputId": "650b9156-9919-4211-9d0b-5a0da0628e34"
      },
      "execution_count": 72,
      "outputs": [
        {
          "output_type": "stream",
          "name": "stdout",
          "text": [
            "             Formatted Date        Summary Precip Type  Temperature (C)  \\\n",
            "0 2006-03-31 22:00:00+00:00  Partly Cloudy        rain         9.472222   \n",
            "1 2006-03-31 23:00:00+00:00  Partly Cloudy        rain         9.355556   \n",
            "2 2006-04-01 00:00:00+00:00  Mostly Cloudy        rain         9.377778   \n",
            "3 2006-04-01 01:00:00+00:00  Partly Cloudy        rain         8.288889   \n",
            "4 2006-04-01 02:00:00+00:00  Mostly Cloudy        rain         8.755556   \n",
            "\n",
            "   Apparent Temperature (C)  Humidity  Wind Speed (km/h)  \\\n",
            "0                  7.388889      0.89            14.1197   \n",
            "1                  7.227778      0.86            14.2646   \n",
            "2                  9.377778      0.89             3.9284   \n",
            "3                  5.944444      0.83            14.1036   \n",
            "4                  6.977778      0.83            11.0446   \n",
            "\n",
            "   Wind Bearing (degrees)  Visibility (km)  Pressure (millibars)  \\\n",
            "0                   251.0          15.8263               1015.13   \n",
            "1                   259.0          15.8263               1015.63   \n",
            "2                   204.0          14.9569               1015.94   \n",
            "3                   269.0          15.8263               1016.41   \n",
            "4                   259.0          15.8263               1016.51   \n",
            "\n",
            "                       Daily Summary    Temp_Z  \n",
            "0  Partly cloudy throughout the day. -0.259401  \n",
            "1  Partly cloudy throughout the day. -0.271639  \n",
            "2  Partly cloudy throughout the day. -0.269308  \n",
            "3  Partly cloudy throughout the day. -0.383529  \n",
            "4  Partly cloudy throughout the day. -0.334577  \n"
          ]
        }
      ]
    },
    {
      "cell_type": "code",
      "source": [
        "# Drop the temporary Z-score column\n",
        "Weather_data.drop(columns=['Temp_Z'], inplace=True)"
      ],
      "metadata": {
        "id": "czSLJm1kMIAr"
      },
      "execution_count": 79,
      "outputs": []
    },
    {
      "cell_type": "code",
      "source": [
        "# Repeat similar steps for other numerical columns as needed, Example for 'Wind Speed (km/h)'\n",
        "Weather_data['Wind_Speed_Z'] = zscore(Weather_data['Wind Speed (km/h)'])\n",
        "Weather_data = Weather_data[(Weather_data['Wind_Speed_Z'] < 3) & (Weather_data['Wind_Speed_Z'] > -3)]\n"
      ],
      "metadata": {
        "id": "DKWrtP-qRP2Y"
      },
      "execution_count": 77,
      "outputs": []
    },
    {
      "cell_type": "code",
      "source": [
        "Weather_data.drop(columns=['Wind_Speed_Z'], inplace=True)"
      ],
      "metadata": {
        "id": "nF9fkqbWRkbk"
      },
      "execution_count": 78,
      "outputs": []
    },
    {
      "cell_type": "code",
      "source": [
        "# Repeat similar steps for other numerical columns as needed, Example for 'Wind Speed (km/h)'\n",
        "Weather_data['App_Temp_Z'] = zscore(Weather_data['Apparent Temperature (C)'])\n",
        "Weather_data = Weather_data[(Weather_data['App_Temp_Z'] < 3) & (Weather_data['App_Temp_Z'] > -3)]\n"
      ],
      "metadata": {
        "id": "M8ooRg1-Ry5l"
      },
      "execution_count": 80,
      "outputs": []
    },
    {
      "cell_type": "code",
      "source": [
        "Weather_data.drop(columns=['App_Temp_Z'], inplace=True)"
      ],
      "metadata": {
        "id": "zLkNQ3_XSH-O"
      },
      "execution_count": 81,
      "outputs": []
    },
    {
      "cell_type": "code",
      "source": [
        "# Repeat similar steps for other numerical columns as needed, Example for 'Wind Speed (km/h)'\n",
        "Weather_data['Humidity_Z'] = zscore(Weather_data['Humidity'])\n",
        "Weather_data = Weather_data[(Weather_data['Humidity_Z'] < 3) & (Weather_data['Humidity_Z'] > -3)]"
      ],
      "metadata": {
        "id": "r4PNc1sISMFw"
      },
      "execution_count": 82,
      "outputs": []
    },
    {
      "cell_type": "code",
      "source": [
        "Weather_data.drop(columns=['Humidity_Z'], inplace=True)"
      ],
      "metadata": {
        "id": "LlKkwmM9ShLO"
      },
      "execution_count": 83,
      "outputs": []
    },
    {
      "cell_type": "code",
      "source": [
        "# Repeat similar steps for other numerical columns as needed, Example for 'Wind Speed (km/h)'\n",
        "Weather_data['WindBearing_Z'] = zscore(Weather_data['Wind Bearing (degrees)'])\n",
        "Weather_data = Weather_data[(Weather_data['WindBearing_Z'] < 3) & (Weather_data['WindBearing_Z'] > -3)]\n",
        "Weather_data.drop(columns=['WindBearing_Z'], inplace=True)"
      ],
      "metadata": {
        "id": "cPeKZZGnSmNh"
      },
      "execution_count": 84,
      "outputs": []
    },
    {
      "cell_type": "code",
      "source": [
        "# Repeat similar steps for other numerical columns as needed, Example for 'Wind Speed (km/h)'\n",
        "Weather_data['Visibility_Z'] = zscore(Weather_data['Visibility (km)'])\n",
        "Weather_data = Weather_data[(Weather_data['Visibility_Z'] < 3) & (Weather_data['Visibility_Z'] > -3)]\n",
        "Weather_data.drop(columns=['Visibility_Z'], inplace=True)"
      ],
      "metadata": {
        "id": "b0dWHHzUS6JJ"
      },
      "execution_count": 85,
      "outputs": []
    },
    {
      "cell_type": "code",
      "source": [
        "# Replace zero pressure values with the mean of non-zero pressures\n",
        "pressure_mean = Weather_data[Weather_data['Pressure (millibars)'] > 0]['Pressure (millibars)'].mean()\n",
        "Weather_data.loc[Weather_data['Pressure (millibars)'] == 0, 'Pressure (millibars)'] = pressure_mean"
      ],
      "metadata": {
        "id": "gf_WiPT4TMsw"
      },
      "execution_count": 87,
      "outputs": []
    },
    {
      "cell_type": "code",
      "source": [
        "print(Weather_data.head())"
      ],
      "metadata": {
        "colab": {
          "base_uri": "https://localhost:8080/"
        },
        "id": "VqiTiXoST4hp",
        "outputId": "ac766b5a-9c82-4bfe-f96c-9840017e7dae"
      },
      "execution_count": 88,
      "outputs": [
        {
          "output_type": "stream",
          "name": "stdout",
          "text": [
            "             Formatted Date        Summary Precip Type  Temperature (C)  \\\n",
            "0 2006-03-31 22:00:00+00:00  Partly Cloudy        rain         9.472222   \n",
            "1 2006-03-31 23:00:00+00:00  Partly Cloudy        rain         9.355556   \n",
            "2 2006-04-01 00:00:00+00:00  Mostly Cloudy        rain         9.377778   \n",
            "3 2006-04-01 01:00:00+00:00  Partly Cloudy        rain         8.288889   \n",
            "4 2006-04-01 02:00:00+00:00  Mostly Cloudy        rain         8.755556   \n",
            "\n",
            "   Apparent Temperature (C)  Humidity  Wind Speed (km/h)  \\\n",
            "0                  7.388889      0.89            14.1197   \n",
            "1                  7.227778      0.86            14.2646   \n",
            "2                  9.377778      0.89             3.9284   \n",
            "3                  5.944444      0.83            14.1036   \n",
            "4                  6.977778      0.83            11.0446   \n",
            "\n",
            "   Wind Bearing (degrees)  Visibility (km)  Pressure (millibars)  \\\n",
            "0                   251.0          15.8263               1015.13   \n",
            "1                   259.0          15.8263               1015.63   \n",
            "2                   204.0          14.9569               1015.94   \n",
            "3                   269.0          15.8263               1016.41   \n",
            "4                   259.0          15.8263               1016.51   \n",
            "\n",
            "                       Daily Summary  \n",
            "0  Partly cloudy throughout the day.  \n",
            "1  Partly cloudy throughout the day.  \n",
            "2  Partly cloudy throughout the day.  \n",
            "3  Partly cloudy throughout the day.  \n",
            "4  Partly cloudy throughout the day.  \n"
          ]
        }
      ]
    },
    {
      "cell_type": "code",
      "source": [
        "# Save the cleaned data\n",
        "cleaned_file_path = 'cleaned_weather_data.csv'\n",
        "Weather_data.to_csv(cleaned_file_path, index=False)"
      ],
      "metadata": {
        "id": "_W8yh6yyNYMN"
      },
      "execution_count": 90,
      "outputs": []
    },
    {
      "cell_type": "code",
      "source": [
        "print(\"Data cleaning completed. Cleaned data saved to:\", cleaned_file_path)"
      ],
      "metadata": {
        "colab": {
          "base_uri": "https://localhost:8080/"
        },
        "id": "SaCh3qBbNilZ",
        "outputId": "8043a2b6-3e55-4e64-f57b-58dfe2c80f7f"
      },
      "execution_count": 91,
      "outputs": [
        {
          "output_type": "stream",
          "name": "stdout",
          "text": [
            "Data cleaning completed. Cleaned data saved to: cleaned_weather_data.csv\n"
          ]
        }
      ]
    },
    {
      "cell_type": "markdown",
      "source": [
        "**Correlation and Regression Analysis on cleaned data**"
      ],
      "metadata": {
        "id": "MVKsdzYVUc02"
      }
    },
    {
      "cell_type": "code",
      "source": [
        "from sklearn.linear_model import LinearRegression\n",
        "from sklearn.model_selection import train_test_split\n",
        "from sklearn.metrics import mean_squared_error, r2_score"
      ],
      "metadata": {
        "id": "zsngTBYUUWUy"
      },
      "execution_count": 92,
      "outputs": []
    },
    {
      "cell_type": "code",
      "source": [
        "import seaborn as sns\n",
        "import matplotlib.pyplot as plt"
      ],
      "metadata": {
        "id": "IJd9XH1FVOhB"
      },
      "execution_count": 93,
      "outputs": []
    },
    {
      "cell_type": "code",
      "source": [
        "# Load the cleaned data\n",
        "data = pd.read_csv('cleaned_weather_data.csv')"
      ],
      "metadata": {
        "id": "GJ0L9_meVVRu"
      },
      "execution_count": 96,
      "outputs": []
    },
    {
      "cell_type": "code",
      "source": [
        "data['Formatted Date'] = pd.to_datetime(data['Formatted Date'], utc=True)"
      ],
      "metadata": {
        "id": "jAYfaUC9ViRh"
      },
      "execution_count": 97,
      "outputs": []
    },
    {
      "cell_type": "markdown",
      "source": [
        "# Correlation Analysis"
      ],
      "metadata": {
        "id": "KGbKU4A4VttD"
      }
    },
    {
      "cell_type": "code",
      "source": [
        "# Exclude non-numeric columns for correlation\n",
        "numeric_data = data.select_dtypes(include=[np.number])"
      ],
      "metadata": {
        "id": "_Mv_1hphVqJb"
      },
      "execution_count": 99,
      "outputs": []
    },
    {
      "cell_type": "code",
      "source": [
        "correlation_matrix = numeric_data.corr()\n",
        "plt.figure(figsize=(10, 8))\n",
        "sns.heatmap(correlation_matrix, annot=True, cmap='coolwarm', fmt=\".2f\")\n",
        "plt.title('Correlation Matrix of Weather Variables')\n",
        "plt.show()"
      ],
      "metadata": {
        "colab": {
          "base_uri": "https://localhost:8080/",
          "height": 582
        },
        "id": "hd4OUhkYV_LT",
        "outputId": "4ce5522a-1403-4f3b-a7a2-6c86a3236eae"
      },
      "execution_count": 100,
      "outputs": [
        {
          "output_type": "display_data",
          "data": {
            "text/plain": [
              "<Figure size 1000x800 with 2 Axes>"
            ],
            "image/png": "[encoded data removed]"
          },
          "metadata": {}
        }
      ]
    },
    {
      "cell_type": "code",
      "source": [],
      "metadata": {
        "id": "FxN75xWDWFn6"
      },
      "execution_count": null,
      "outputs": []
    },
    {
      "cell_type": "markdown",
      "source": [
        "#Regression"
      ],
      "metadata": {
        "id": "vCEx-MkeWObN"
      }
    },
    {
      "cell_type": "code",
      "source": [
        "# Selecting features and target for regression\n",
        "features = data[['Humidity', 'Wind Speed (km/h)', 'Visibility (km)', 'Pressure (millibars)']]\n",
        "target = data['Temperature (C)']"
      ],
      "metadata": {
        "id": "l7QNNfirWQYC"
      },
      "execution_count": 101,
      "outputs": []
    },
    {
      "cell_type": "code",
      "source": [
        "# Splitting data into training and testing sets\n",
        "X_train, X_test, y_train, y_test = train_test_split(features, target, test_size=0.2, random_state=42)"
      ],
      "metadata": {
        "id": "C7fIiF9bWhLd"
      },
      "execution_count": 102,
      "outputs": []
    },
    {
      "cell_type": "code",
      "source": [
        "#training the regression model\n",
        "model = LinearRegression()\n",
        "model.fit(X_train, y_train)"
      ],
      "metadata": {
        "colab": {
          "base_uri": "https://localhost:8080/",
          "height": 75
        },
        "id": "2RfDZMQ5Wi3a",
        "outputId": "e9abbd4d-cf56-4447-d472-e9d6aba08b29"
      },
      "execution_count": 105,
      "outputs": [
        {
          "output_type": "execute_result",
          "data": {
            "text/plain": [
              "LinearRegression()"
            ],
            "text/html": [
              "<style>#sk-container-id-2 {color: black;background-color: white;}#sk-container-id-2 pre{padding: 0;}#sk-container-id-2 div.sk-toggleable {background-color: white;}#sk-container-id-2 label.sk-toggleable__label {cursor: pointer;display: block;width: 100%;margin-bottom: 0;padding: 0.3em;box-sizing: border-box;text-align: center;}#sk-container-id-2 label.sk-toggleable__label-arrow:before {content: \"▸\";float: left;margin-right: 0.25em;color: #696969;}#sk-container-id-2 label.sk-toggleable__label-arrow:hover:before {color: black;}#sk-container-id-2 div.sk-estimator:hover label.sk-toggleable__label-arrow:before {color: black;}#sk-container-id-2 div.sk-toggleable__content {max-height: 0;max-width: 0;overflow: hidden;text-align: left;background-color: #f0f8ff;}#sk-container-id-2 div.sk-toggleable__content pre {margin: 0.2em;color: black;border-radius: 0.25em;background-color: #f0f8ff;}#sk-container-id-2 input.sk-toggleable__control:checked~div.sk-toggleable__content {max-height: 200px;max-width: 100%;overflow: auto;}#sk-container-id-2 input.sk-toggleable__control:checked~label.sk-toggleable__label-arrow:before {content: \"▾\";}#sk-container-id-2 div.sk-estimator input.sk-toggleable__control:checked~label.sk-toggleable__label {background-color: #d4ebff;}#sk-container-id-2 div.sk-label input.sk-toggleable__control:checked~label.sk-toggleable__label {background-color: #d4ebff;}#sk-container-id-2 input.sk-hidden--visually {border: 0;clip: rect(1px 1px 1px 1px);clip: rect(1px, 1px, 1px, 1px);height: 1px;margin: -1px;overflow: hidden;padding: 0;position: absolute;width: 1px;}#sk-container-id-2 div.sk-estimator {font-family: monospace;background-color: #f0f8ff;border: 1px dotted black;border-radius: 0.25em;box-sizing: border-box;margin-bottom: 0.5em;}#sk-container-id-2 div.sk-estimator:hover {background-color: #d4ebff;}#sk-container-id-2 div.sk-parallel-item::after {content: \"\";width: 100%;border-bottom: 1px solid gray;flex-grow: 1;}#sk-container-id-2 div.sk-label:hover label.sk-toggleable__label {background-color: #d4ebff;}#sk-container-id-2 div.sk-serial::before {content: \"\";position: absolute;border-left: 1px solid gray;box-sizing: border-box;top: 0;bottom: 0;left: 50%;z-index: 0;}#sk-container-id-2 div.sk-serial {display: flex;flex-direction: column;align-items: center;background-color: white;padding-right: 0.2em;padding-left: 0.2em;position: relative;}#sk-container-id-2 div.sk-item {position: relative;z-index: 1;}#sk-container-id-2 div.sk-parallel {display: flex;align-items: stretch;justify-content: center;background-color: white;position: relative;}#sk-container-id-2 div.sk-item::before, #sk-container-id-2 div.sk-parallel-item::before {content: \"\";position: absolute;border-left: 1px solid gray;box-sizing: border-box;top: 0;bottom: 0;left: 50%;z-index: -1;}#sk-container-id-2 div.sk-parallel-item {display: flex;flex-direction: column;z-index: 1;position: relative;background-color: white;}#sk-container-id-2 div.sk-parallel-item:first-child::after {align-self: flex-end;width: 50%;}#sk-container-id-2 div.sk-parallel-item:last-child::after {align-self: flex-start;width: 50%;}#sk-container-id-2 div.sk-parallel-item:only-child::after {width: 0;}#sk-container-id-2 div.sk-dashed-wrapped {border: 1px dashed gray;margin: 0 0.4em 0.5em 0.4em;box-sizing: border-box;padding-bottom: 0.4em;background-color: white;}#sk-container-id-2 div.sk-label label {font-family: monospace;font-weight: bold;display: inline-block;line-height: 1.2em;}#sk-container-id-2 div.sk-label-container {text-align: center;}#sk-container-id-2 div.sk-container {/* jupyter's `normalize.less` sets `[hidden] { display: none; }` but bootstrap.min.css set `[hidden] { display: none !important; }` so we also need the `!important` here to be able to override the default hidden behavior on the sphinx rendered scikit-learn.org. See: https://github.com/scikit-learn/scikit-learn/issues/21755 */display: inline-block !important;position: relative;}#sk-container-id-2 div.sk-text-repr-fallback {display: none;}</style><div id=\"sk-container-id-2\" class=\"sk-top-container\"><div class=\"sk-text-repr-fallback\"><pre>LinearRegression()</pre><b>In a Jupyter environment, please rerun this cell to show the HTML representation or trust the notebook. <br />On GitHub, the HTML representation is unable to render, please try loading this page with nbviewer.org.</b></div><div class=\"sk-container\" hidden><div class=\"sk-item\"><div class=\"sk-estimator sk-toggleable\"><input class=\"sk-toggleable__control sk-hidden--visually\" id=\"sk-estimator-id-2\" type=\"checkbox\" checked><label for=\"sk-estimator-id-2\" class=\"sk-toggleable__label sk-toggleable__label-arrow\">LinearRegression</label><div class=\"sk-toggleable__content\"><pre>LinearRegression()</pre></div></div></div></div></div>"
            ]
          },
          "metadata": {},
          "execution_count": 105
        }
      ]
    },
    {
      "cell_type": "code",
      "source": [
        "#predictions\n",
        "predictions = model.predict(X_test)"
      ],
      "metadata": {
        "id": "DCPlEHIXWtR1"
      },
      "execution_count": 107,
      "outputs": []
    },
    {
      "cell_type": "code",
      "source": [
        "print(predictions)"
      ],
      "metadata": {
        "colab": {
          "base_uri": "https://localhost:8080/"
        },
        "id": "h_j3rIReWwar",
        "outputId": "853b85ff-10cc-4acf-f9ea-9177c21b5541"
      },
      "execution_count": 113,
      "outputs": [
        {
          "output_type": "stream",
          "name": "stdout",
          "text": [
            "[13.65480228  6.38406556 14.45531611 ...  4.92290446  6.58163996\n",
            " 19.50028537]\n"
          ]
        }
      ]
    },
    {
      "cell_type": "code",
      "source": [
        "# Create a DataFrame to display actual vs predicted values\n",
        "comparison_df = pd.DataFrame({'Actual Temperature (C)': y_test, 'Predicted Temperature (C)': predictions})\n",
        "comparison_df.reset_index(drop=True, inplace=True)"
      ],
      "metadata": {
        "id": "gtINaivZXhsZ"
      },
      "execution_count": 114,
      "outputs": []
    },
    {
      "cell_type": "code",
      "source": [
        "# Display the first few rows of the DataFrame\n",
        "comparison_df.head()"
      ],
      "metadata": {
        "colab": {
          "base_uri": "https://localhost:8080/",
          "height": 206
        },
        "id": "9XyAiSliXlbF",
        "outputId": "7173c03b-641d-46ce-822c-02c5bf24a9a3"
      },
      "execution_count": 115,
      "outputs": [
        {
          "output_type": "execute_result",
          "data": {
            "text/plain": [
              "   Actual Temperature (C)  Predicted Temperature (C)\n",
              "0                4.927778                  13.654802\n",
              "1                8.955556                   6.384066\n",
              "2               17.088889                  14.455316\n",
              "3               16.966667                   9.418187\n",
              "4                6.600000                  10.086408"
            ],
            "text/html": [
              "\n",
              "  <div id=\"df-348294ee-bbff-49ca-91f2-1d5685e91f86\" class=\"colab-df-container\">\n",
              "    <div>\n",
              "<style scoped>\n",
              "    .dataframe tbody tr th:only-of-type {\n",
              "        vertical-align: middle;\n",
              "    }\n",
              "\n",
              "    .dataframe tbody tr th {\n",
              "        vertical-align: top;\n",
              "    }\n",
              "\n",
              "    .dataframe thead th {\n",
              "        text-align: right;\n",
              "    }\n",
              "</style>\n",
              "<table border=\"1\" class=\"dataframe\">\n",
              "  <thead>\n",
              "    <tr style=\"text-align: right;\">\n",
              "      <th></th>\n",
              "      <th>Actual Temperature (C)</th>\n",
              "      <th>Predicted Temperature (C)</th>\n",
              "    </tr>\n",
              "  </thead>\n",
              "  <tbody>\n",
              "    <tr>\n",
              "      <th>0</th>\n",
              "      <td>4.927778</td>\n",
              "      <td>13.654802</td>\n",
              "    </tr>\n",
              "    <tr>\n",
              "      <th>1</th>\n",
              "      <td>8.955556</td>\n",
              "      <td>6.384066</td>\n",
              "    </tr>\n",
              "    <tr>\n",
              "      <th>2</th>\n",
              "      <td>17.088889</td>\n",
              "      <td>14.455316</td>\n",
              "    </tr>\n",
              "    <tr>\n",
              "      <th>3</th>\n",
              "      <td>16.966667</td>\n",
              "      <td>9.418187</td>\n",
              "    </tr>\n",
              "    <tr>\n",
              "      <th>4</th>\n",
              "      <td>6.600000</td>\n",
              "      <td>10.086408</td>\n",
              "    </tr>\n",
              "  </tbody>\n",
              "</table>\n",
              "</div>\n",
              "    <div class=\"colab-df-buttons\">\n",
              "\n",
              "  <div class=\"colab-df-container\">\n",
              "    <button class=\"colab-df-convert\" onclick=\"convertToInteractive('df-348294ee-bbff-49ca-91f2-1d5685e91f86')\"\n",
              "            title=\"Convert this dataframe to an interactive table.\"\n",
              "            style=\"display:none;\">\n",
              "\n",
              "  <svg xmlns=\"http://www.w3.org/2000/svg\" height=\"24px\" viewBox=\"0 -960 960 960\">\n",
              "    <path d=\"M120-120v-720h720v720H120Zm60-500h600v-160H180v160Zm220 220h160v-160H400v160Zm0 220h160v-160H400v160ZM180-400h160v-160H180v160Zm440 0h160v-160H620v160ZM180-180h160v-160H180v160Zm440 0h160v-160H620v160Z\"/>\n",
              "  </svg>\n",
              "    </button>\n",
              "\n",
              "  <style>\n",
              "    .colab-df-container {\n",
              "      display:flex;\n",
              "      gap: 12px;\n",
              "    }\n",
              "\n",
              "    .colab-df-convert {\n",
              "      background-color: #E8F0FE;\n",
              "      border: none;\n",
              "      border-radius: 50%;\n",
              "      cursor: pointer;\n",
              "      display: none;\n",
              "      fill: #1967D2;\n",
              "      height: 32px;\n",
              "      padding: 0 0 0 0;\n",
              "      width: 32px;\n",
              "    }\n",
              "\n",
              "    .colab-df-convert:hover {\n",
              "      background-color: #E2EBFA;\n",
              "      box-shadow: 0px 1px 2px rgba(60, 64, 67, 0.3), 0px 1px 3px 1px rgba(60, 64, 67, 0.15);\n",
              "      fill: #174EA6;\n",
              "    }\n",
              "\n",
              "    .colab-df-buttons div {\n",
              "      margin-bottom: 4px;\n",
              "    }\n",
              "\n",
              "    [theme=dark] .colab-df-convert {\n",
              "      background-color: #3B4455;\n",
              "      fill: #D2E3FC;\n",
              "    }\n",
              "\n",
              "    [theme=dark] .colab-df-convert:hover {\n",
              "      background-color: #434B5C;\n",
              "      box-shadow: 0px 1px 3px 1px rgba(0, 0, 0, 0.15);\n",
              "      filter: drop-shadow(0px 1px 2px rgba(0, 0, 0, 0.3));\n",
              "      fill: #FFFFFF;\n",
              "    }\n",
              "  </style>\n",
              "\n",
              "    <script>\n",
              "      const buttonEl =\n",
              "        document.querySelector('#df-348294ee-bbff-49ca-91f2-1d5685e91f86 button.colab-df-convert');\n",
              "      buttonEl.style.display =\n",
              "        google.colab.kernel.accessAllowed ? 'block' : 'none';\n",
              "\n",
              "      async function convertToInteractive(key) {\n",
              "        const element = document.querySelector('#df-348294ee-bbff-49ca-91f2-1d5685e91f86');\n",
              "        const dataTable =\n",
              "          await google.colab.kernel.invokeFunction('convertToInteractive',\n",
              "                                                    [key], {});\n",
              "        if (!dataTable) return;\n",
              "\n",
              "        const docLinkHtml = 'Like what you see? Visit the ' +\n",
              "          '<a target=\"_blank\" href=https://colab.research.google.com/notebooks/data_table.ipynb>data table notebook</a>'\n",
              "          + ' to learn more about interactive tables.';\n",
              "        element.innerHTML = '';\n",
              "        dataTable['output_type'] = 'display_data';\n",
              "        await google.colab.output.renderOutput(dataTable, element);\n",
              "        const docLink = document.createElement('div');\n",
              "        docLink.innerHTML = docLinkHtml;\n",
              "        element.appendChild(docLink);\n",
              "      }\n",
              "    </script>\n",
              "  </div>\n",
              "\n",
              "\n",
              "<div id=\"df-219478f8-6ce1-4fbc-99ab-48c2a3304874\">\n",
              "  <button class=\"colab-df-quickchart\" onclick=\"quickchart('df-219478f8-6ce1-4fbc-99ab-48c2a3304874')\"\n",
              "            title=\"Suggest charts\"\n",
              "            style=\"display:none;\">\n",
              "\n",
              "<svg xmlns=\"http://www.w3.org/2000/svg\" height=\"24px\"viewBox=\"0 0 24 24\"\n",
              "     width=\"24px\">\n",
              "    <g>\n",
              "        <path d=\"M19 3H5c-1.1 0-2 .9-2 2v14c0 1.1.9 2 2 2h14c1.1 0 2-.9 2-2V5c0-1.1-.9-2-2-2zM9 17H7v-7h2v7zm4 0h-2V7h2v10zm4 0h-2v-4h2v4z\"/>\n",
              "    </g>\n",
              "</svg>\n",
              "  </button>\n",
              "\n",
              "<style>\n",
              "  .colab-df-quickchart {\n",
              "      --bg-color: #E8F0FE;\n",
              "      --fill-color: #1967D2;\n",
              "      --hover-bg-color: #E2EBFA;\n",
              "      --hover-fill-color: #174EA6;\n",
              "      --disabled-fill-color: #AAA;\n",
              "      --disabled-bg-color: #DDD;\n",
              "  }\n",
              "\n",
              "  [theme=dark] .colab-df-quickchart {\n",
              "      --bg-color: #3B4455;\n",
              "      --fill-color: #D2E3FC;\n",
              "      --hover-bg-color: #434B5C;\n",
              "      --hover-fill-color: #FFFFFF;\n",
              "      --disabled-bg-color: #3B4455;\n",
              "      --disabled-fill-color: #666;\n",
              "  }\n",
              "\n",
              "  .colab-df-quickchart {\n",
              "    background-color: var(--bg-color);\n",
              "    border: none;\n",
              "    border-radius: 50%;\n",
              "    cursor: pointer;\n",
              "    display: none;\n",
              "    fill: var(--fill-color);\n",
              "    height: 32px;\n",
              "    padding: 0;\n",
              "    width: 32px;\n",
              "  }\n",
              "\n",
              "  .colab-df-quickchart:hover {\n",
              "    background-color: var(--hover-bg-color);\n",
              "    box-shadow: 0 1px 2px rgba(60, 64, 67, 0.3), 0 1px 3px 1px rgba(60, 64, 67, 0.15);\n",
              "    fill: var(--button-hover-fill-color);\n",
              "  }\n",
              "\n",
              "  .colab-df-quickchart-complete:disabled,\n",
              "  .colab-df-quickchart-complete:disabled:hover {\n",
              "    background-color: var(--disabled-bg-color);\n",
              "    fill: var(--disabled-fill-color);\n",
              "    box-shadow: none;\n",
              "  }\n",
              "\n",
              "  .colab-df-spinner {\n",
              "    border: 2px solid var(--fill-color);\n",
              "    border-color: transparent;\n",
              "    border-bottom-color: var(--fill-color);\n",
              "    animation:\n",
              "      spin 1s steps(1) infinite;\n",
              "  }\n",
              "\n",
              "  @keyframes spin {\n",
              "    0% {\n",
              "      border-color: transparent;\n",
              "      border-bottom-color: var(--fill-color);\n",
              "      border-left-color: var(--fill-color);\n",
              "    }\n",
              "    20% {\n",
              "      border-color: transparent;\n",
              "      border-left-color: var(--fill-color);\n",
              "      border-top-color: var(--fill-color);\n",
              "    }\n",
              "    30% {\n",
              "      border-color: transparent;\n",
              "      border-left-color: var(--fill-color);\n",
              "      border-top-color: var(--fill-color);\n",
              "      border-right-color: var(--fill-color);\n",
              "    }\n",
              "    40% {\n",
              "      border-color: transparent;\n",
              "      border-right-color: var(--fill-color);\n",
              "      border-top-color: var(--fill-color);\n",
              "    }\n",
              "    60% {\n",
              "      border-color: transparent;\n",
              "      border-right-color: var(--fill-color);\n",
              "    }\n",
              "    80% {\n",
              "      border-color: transparent;\n",
              "      border-right-color: var(--fill-color);\n",
              "      border-bottom-color: var(--fill-color);\n",
              "    }\n",
              "    90% {\n",
              "      border-color: transparent;\n",
              "      border-bottom-color: var(--fill-color);\n",
              "    }\n",
              "  }\n",
              "</style>\n",
              "\n",
              "  <script>\n",
              "    async function quickchart(key) {\n",
              "      const quickchartButtonEl =\n",
              "        document.querySelector('#' + key + ' button');\n",
              "      quickchartButtonEl.disabled = true;  // To prevent multiple clicks.\n",
              "      quickchartButtonEl.classList.add('colab-df-spinner');\n",
              "      try {\n",
              "        const charts = await google.colab.kernel.invokeFunction(\n",
              "            'suggestCharts', [key], {});\n",
              "      } catch (error) {\n",
              "        console.error('Error during call to suggestCharts:', error);\n",
              "      }\n",
              "      quickchartButtonEl.classList.remove('colab-df-spinner');\n",
              "      quickchartButtonEl.classList.add('colab-df-quickchart-complete');\n",
              "    }\n",
              "    (() => {\n",
              "      let quickchartButtonEl =\n",
              "        document.querySelector('#df-219478f8-6ce1-4fbc-99ab-48c2a3304874 button');\n",
              "      quickchartButtonEl.style.display =\n",
              "        google.colab.kernel.accessAllowed ? 'block' : 'none';\n",
              "    })();\n",
              "  </script>\n",
              "</div>\n",
              "    </div>\n",
              "  </div>\n"
            ],
            "application/vnd.google.colaboratory.intrinsic+json": {
              "type": "dataframe",
              "variable_name": "comparison_df",
              "summary": "{\n  \"name\": \"comparison_df\",\n  \"rows\": 18691,\n  \"fields\": [\n    {\n      \"column\": \"Actual Temperature (C)\",\n      \"properties\": {\n        \"dtype\": \"number\",\n        \"std\": 9.498997003966755,\n        \"min\": -16.11111111111111,\n        \"max\": 38.84444444444445,\n        \"num_unique_values\": 5170,\n        \"samples\": [\n          20.766666666666666,\n          30.85,\n          -0.8888888888888897\n        ],\n        \"semantic_type\": \"\",\n        \"description\": \"\"\n      }\n    },\n    {\n      \"column\": \"Predicted Temperature (C)\",\n      \"properties\": {\n        \"dtype\": \"number\",\n        \"std\": 7.02781591789353,\n        \"min\": -8.591448149687722,\n        \"max\": 37.130442661297764,\n        \"num_unique_values\": 18683,\n        \"samples\": [\n          8.278686991379175,\n          3.921350486489075,\n          23.86546584194906\n        ],\n        \"semantic_type\": \"\",\n        \"description\": \"\"\n      }\n    }\n  ]\n}"
            }
          },
          "metadata": {},
          "execution_count": 115
        }
      ]
    },
    {
      "cell_type": "code",
      "source": [
        "# Evaluating the model\n",
        "mse = mean_squared_error(y_test, predictions)\n",
        "r2 = r2_score(y_test, predictions)\n",
        "print(\"Mean Squared Error:\", mse)\n",
        "print(\"R^2 Score:\", r2)"
      ],
      "metadata": {
        "colab": {
          "base_uri": "https://localhost:8080/"
        },
        "id": "96Wx-mcSW3jV",
        "outputId": "6a412a2c-8965-4cad-b274-0b92a819de98"
      },
      "execution_count": 109,
      "outputs": [
        {
          "output_type": "stream",
          "name": "stdout",
          "text": [
            "Mean Squared Error: 40.865641963733175\n",
            "R^2 Score: 0.5470752425622818\n"
          ]
        }
      ]
    },
    {
      "cell_type": "code",
      "source": [
        "# Example features\n",
        "features_example = pd.DataFrame({\n",
        "    'Humidity': [0.75],\n",
        "    'Wind Speed (km/h)': [10],\n",
        "    'Pressure (millibars)': [1015]\n",
        "})"
      ],
      "metadata": {
        "id": "Le-DpRizYQUU"
      },
      "execution_count": 118,
      "outputs": []
    },
    {
      "cell_type": "code",
      "source": [
        "data = pd.DataFrame({\n",
        "    'Humidity': [0.7, 0.6, 0.9, 0.85],\n",
        "    'Wind Speed (km/h)': [5, 15, 20, 10],\n",
        "    'Pressure (millibars)': [1012, 1015, 1013, 1016],\n",
        "    'Temperature (C)': [22, 20, 24, 21]\n",
        "})\n",
        "\n",
        "# Selecting features and target from the dataset\n",
        "features = data[['Humidity', 'Wind Speed (km/h)', 'Pressure (millibars)']]\n",
        "target = data['Temperature (C)']\n",
        "\n",
        "# Creating and training the regression model\n",
        "model = LinearRegression()\n",
        "model.fit(features, target)  # Fitting the model with data\n",
        "\n",
        "# Now that the model is trained, we can make predictions\n",
        "# Example features to predict\n",
        "features_example = pd.DataFrame({\n",
        "    'Humidity': [0.75],\n",
        "    'Wind Speed (km/h)': [10],\n",
        "    'Pressure (millibars)': [1015]\n",
        "})\n",
        "\n",
        "# Predicting the temperature\n",
        "predicted_temperature = model.predict(features_example)\n",
        "print(\"Predicted Temperature (C):\", predicted_temperature[0])"
      ],
      "metadata": {
        "colab": {
          "base_uri": "https://localhost:8080/"
        },
        "id": "xOYfdYaSYdl5",
        "outputId": "a26ff444-9628-400f-cfe2-e596ad422d19"
      },
      "execution_count": 120,
      "outputs": [
        {
          "output_type": "stream",
          "name": "stdout",
          "text": [
            "Predicted Temperature (C): 20.841269841269764\n"
          ]
        }
      ]
    },
    {
      "cell_type": "code",
      "source": [
        "print(\"The model's R^2 score indicates how well the temperature can be predicted by the model.\")\n",
        "print(\"This analysis helps in understanding how different weather parameters correlate and influence each other.\")"
      ],
      "metadata": {
        "colab": {
          "base_uri": "https://localhost:8080/"
        },
        "id": "s25qgqGYYFmm",
        "outputId": "fbf4bd4c-f90a-47d0-8d20-47e9f002ad0f"
      },
      "execution_count": 116,
      "outputs": [
        {
          "output_type": "stream",
          "name": "stdout",
          "text": [
            "The model's R^2 score indicates how well the temperature can be predicted by the model.\n",
            "This analysis helps in understanding how different weather parameters correlate and influence each other.\n"
          ]
        }
      ]
    }
  ]
}